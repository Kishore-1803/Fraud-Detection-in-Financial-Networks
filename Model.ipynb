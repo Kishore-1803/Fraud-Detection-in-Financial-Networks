{
  "cells": [
    {
      "cell_type": "code",
      "execution_count": 2,
      "metadata": {
        "id": "8GU-yvGrvGq3"
      },
      "outputs": [],
      "source": [
        "import numpy as np\n",
        "import pandas as pd\n",
        "from sklearn.model_selection import train_test_split\n",
        "from sklearn.linear_model import LogisticRegression\n",
        "from sklearn.metrics import accuracy_score"
      ]
    },
    {
      "cell_type": "code",
      "execution_count": 3,
      "metadata": {
        "id": "0fBGR9xZwk27"
      },
      "outputs": [],
      "source": [
        "\n",
        "transaction_data = pd.read_csv(\"C:\\\\Users\\\\kisho\\\\OneDrive\\\\Documents\\\\projects\\\\discrete maths project\\\\data set\\\\file0.csv\")"
      ]
    },
    {
      "cell_type": "code",
      "execution_count": 4,
      "metadata": {
        "id": "09CoXmHXpYnI"
      },
      "outputs": [],
      "source": [
        "transaction_data = pd.get_dummies(transaction_data, columns=['nameOrig'])\n",
        "transaction_data = pd.get_dummies(transaction_data, columns=['nameDest'])\n",
        "transaction_data = pd.get_dummies(transaction_data, columns=['type'])"
      ]
    },
    {
      "cell_type": "code",
      "execution_count": 5,
      "metadata": {
        "colab": {
          "base_uri": "https://localhost:8080/",
          "height": 255
        },
        "id": "1EuAEl3Ywy7I",
        "outputId": "a4bf9774-3b30-4b39-b989-452eb4937649"
      },
      "outputs": [
        {
          "data": {
            "text/html": [
              "<div>\n",
              "<style scoped>\n",
              "    .dataframe tbody tr th:only-of-type {\n",
              "        vertical-align: middle;\n",
              "    }\n",
              "\n",
              "    .dataframe tbody tr th {\n",
              "        vertical-align: top;\n",
              "    }\n",
              "\n",
              "    .dataframe thead th {\n",
              "        text-align: right;\n",
              "    }\n",
              "</style>\n",
              "<table border=\"1\" class=\"dataframe\">\n",
              "  <thead>\n",
              "    <tr style=\"text-align: right;\">\n",
              "      <th></th>\n",
              "      <th>step</th>\n",
              "      <th>amount</th>\n",
              "      <th>oldbalanceOrg</th>\n",
              "      <th>newbalanceOrig</th>\n",
              "      <th>oldbalanceDest</th>\n",
              "      <th>newbalanceDest</th>\n",
              "      <th>isFraud</th>\n",
              "      <th>isFlaggedFraud</th>\n",
              "      <th>nameOrig_C10001825</th>\n",
              "      <th>nameOrig_C100033245</th>\n",
              "      <th>...</th>\n",
              "      <th>nameDest_M998458782</th>\n",
              "      <th>nameDest_M998935228</th>\n",
              "      <th>nameDest_M998983750</th>\n",
              "      <th>nameDest_M999036382</th>\n",
              "      <th>nameDest_M999221400</th>\n",
              "      <th>type_CASH_IN</th>\n",
              "      <th>type_CASH_OUT</th>\n",
              "      <th>type_DEBIT</th>\n",
              "      <th>type_PAYMENT</th>\n",
              "      <th>type_TRANSFER</th>\n",
              "    </tr>\n",
              "  </thead>\n",
              "  <tbody>\n",
              "    <tr>\n",
              "      <th>0</th>\n",
              "      <td>1</td>\n",
              "      <td>9839.64</td>\n",
              "      <td>170136.0</td>\n",
              "      <td>160296.36</td>\n",
              "      <td>0.0</td>\n",
              "      <td>0.0</td>\n",
              "      <td>0</td>\n",
              "      <td>0</td>\n",
              "      <td>False</td>\n",
              "      <td>False</td>\n",
              "      <td>...</td>\n",
              "      <td>False</td>\n",
              "      <td>False</td>\n",
              "      <td>False</td>\n",
              "      <td>False</td>\n",
              "      <td>False</td>\n",
              "      <td>False</td>\n",
              "      <td>False</td>\n",
              "      <td>False</td>\n",
              "      <td>True</td>\n",
              "      <td>False</td>\n",
              "    </tr>\n",
              "    <tr>\n",
              "      <th>1</th>\n",
              "      <td>1</td>\n",
              "      <td>1864.28</td>\n",
              "      <td>21249.0</td>\n",
              "      <td>19384.72</td>\n",
              "      <td>0.0</td>\n",
              "      <td>0.0</td>\n",
              "      <td>0</td>\n",
              "      <td>0</td>\n",
              "      <td>False</td>\n",
              "      <td>False</td>\n",
              "      <td>...</td>\n",
              "      <td>False</td>\n",
              "      <td>False</td>\n",
              "      <td>False</td>\n",
              "      <td>False</td>\n",
              "      <td>False</td>\n",
              "      <td>False</td>\n",
              "      <td>False</td>\n",
              "      <td>False</td>\n",
              "      <td>True</td>\n",
              "      <td>False</td>\n",
              "    </tr>\n",
              "    <tr>\n",
              "      <th>2</th>\n",
              "      <td>1</td>\n",
              "      <td>181.00</td>\n",
              "      <td>181.0</td>\n",
              "      <td>0.00</td>\n",
              "      <td>0.0</td>\n",
              "      <td>0.0</td>\n",
              "      <td>1</td>\n",
              "      <td>0</td>\n",
              "      <td>False</td>\n",
              "      <td>False</td>\n",
              "      <td>...</td>\n",
              "      <td>False</td>\n",
              "      <td>False</td>\n",
              "      <td>False</td>\n",
              "      <td>False</td>\n",
              "      <td>False</td>\n",
              "      <td>False</td>\n",
              "      <td>False</td>\n",
              "      <td>False</td>\n",
              "      <td>False</td>\n",
              "      <td>True</td>\n",
              "    </tr>\n",
              "    <tr>\n",
              "      <th>3</th>\n",
              "      <td>1</td>\n",
              "      <td>181.00</td>\n",
              "      <td>181.0</td>\n",
              "      <td>0.00</td>\n",
              "      <td>21182.0</td>\n",
              "      <td>0.0</td>\n",
              "      <td>1</td>\n",
              "      <td>0</td>\n",
              "      <td>False</td>\n",
              "      <td>False</td>\n",
              "      <td>...</td>\n",
              "      <td>False</td>\n",
              "      <td>False</td>\n",
              "      <td>False</td>\n",
              "      <td>False</td>\n",
              "      <td>False</td>\n",
              "      <td>False</td>\n",
              "      <td>True</td>\n",
              "      <td>False</td>\n",
              "      <td>False</td>\n",
              "      <td>False</td>\n",
              "    </tr>\n",
              "    <tr>\n",
              "      <th>4</th>\n",
              "      <td>1</td>\n",
              "      <td>11668.14</td>\n",
              "      <td>41554.0</td>\n",
              "      <td>29885.86</td>\n",
              "      <td>0.0</td>\n",
              "      <td>0.0</td>\n",
              "      <td>0</td>\n",
              "      <td>0</td>\n",
              "      <td>False</td>\n",
              "      <td>False</td>\n",
              "      <td>...</td>\n",
              "      <td>False</td>\n",
              "      <td>False</td>\n",
              "      <td>False</td>\n",
              "      <td>False</td>\n",
              "      <td>False</td>\n",
              "      <td>False</td>\n",
              "      <td>False</td>\n",
              "      <td>False</td>\n",
              "      <td>True</td>\n",
              "      <td>False</td>\n",
              "    </tr>\n",
              "  </tbody>\n",
              "</table>\n",
              "<p>5 rows × 16408 columns</p>\n",
              "</div>"
            ],
            "text/plain": [
              "   step    amount  oldbalanceOrg  newbalanceOrig  oldbalanceDest  \\\n",
              "0     1   9839.64       170136.0       160296.36             0.0   \n",
              "1     1   1864.28        21249.0        19384.72             0.0   \n",
              "2     1    181.00          181.0            0.00             0.0   \n",
              "3     1    181.00          181.0            0.00         21182.0   \n",
              "4     1  11668.14        41554.0        29885.86             0.0   \n",
              "\n",
              "   newbalanceDest  isFraud  isFlaggedFraud  nameOrig_C10001825  \\\n",
              "0             0.0        0               0               False   \n",
              "1             0.0        0               0               False   \n",
              "2             0.0        1               0               False   \n",
              "3             0.0        1               0               False   \n",
              "4             0.0        0               0               False   \n",
              "\n",
              "   nameOrig_C100033245  ...  nameDest_M998458782  nameDest_M998935228  \\\n",
              "0                False  ...                False                False   \n",
              "1                False  ...                False                False   \n",
              "2                False  ...                False                False   \n",
              "3                False  ...                False                False   \n",
              "4                False  ...                False                False   \n",
              "\n",
              "   nameDest_M998983750  nameDest_M999036382  nameDest_M999221400  \\\n",
              "0                False                False                False   \n",
              "1                False                False                False   \n",
              "2                False                False                False   \n",
              "3                False                False                False   \n",
              "4                False                False                False   \n",
              "\n",
              "   type_CASH_IN  type_CASH_OUT  type_DEBIT  type_PAYMENT  type_TRANSFER  \n",
              "0         False          False       False          True          False  \n",
              "1         False          False       False          True          False  \n",
              "2         False          False       False         False           True  \n",
              "3         False           True       False         False          False  \n",
              "4         False          False       False          True          False  \n",
              "\n",
              "[5 rows x 16408 columns]"
            ]
          },
          "execution_count": 5,
          "metadata": {},
          "output_type": "execute_result"
        }
      ],
      "source": [
        "#first 5 rows of the dataset\n",
        "transaction_data.head()"
      ]
    },
    {
      "cell_type": "code",
      "execution_count": 6,
      "metadata": {
        "colab": {
          "base_uri": "https://localhost:8080/",
          "height": 255
        },
        "id": "NKOo87qsxBGu",
        "outputId": "38a1e1b8-c914-4ace-b289-4d7f794808b5"
      },
      "outputs": [
        {
          "data": {
            "text/html": [
              "<div>\n",
              "<style scoped>\n",
              "    .dataframe tbody tr th:only-of-type {\n",
              "        vertical-align: middle;\n",
              "    }\n",
              "\n",
              "    .dataframe tbody tr th {\n",
              "        vertical-align: top;\n",
              "    }\n",
              "\n",
              "    .dataframe thead th {\n",
              "        text-align: right;\n",
              "    }\n",
              "</style>\n",
              "<table border=\"1\" class=\"dataframe\">\n",
              "  <thead>\n",
              "    <tr style=\"text-align: right;\">\n",
              "      <th></th>\n",
              "      <th>step</th>\n",
              "      <th>amount</th>\n",
              "      <th>oldbalanceOrg</th>\n",
              "      <th>newbalanceOrig</th>\n",
              "      <th>oldbalanceDest</th>\n",
              "      <th>newbalanceDest</th>\n",
              "      <th>isFraud</th>\n",
              "      <th>isFlaggedFraud</th>\n",
              "      <th>nameOrig_C10001825</th>\n",
              "      <th>nameOrig_C100033245</th>\n",
              "      <th>...</th>\n",
              "      <th>nameDest_M998458782</th>\n",
              "      <th>nameDest_M998935228</th>\n",
              "      <th>nameDest_M998983750</th>\n",
              "      <th>nameDest_M999036382</th>\n",
              "      <th>nameDest_M999221400</th>\n",
              "      <th>type_CASH_IN</th>\n",
              "      <th>type_CASH_OUT</th>\n",
              "      <th>type_DEBIT</th>\n",
              "      <th>type_PAYMENT</th>\n",
              "      <th>type_TRANSFER</th>\n",
              "    </tr>\n",
              "  </thead>\n",
              "  <tbody>\n",
              "    <tr>\n",
              "      <th>9994</th>\n",
              "      <td>7</td>\n",
              "      <td>115.38</td>\n",
              "      <td>249688.0</td>\n",
              "      <td>249572.62</td>\n",
              "      <td>0.0</td>\n",
              "      <td>0.0</td>\n",
              "      <td>0</td>\n",
              "      <td>0</td>\n",
              "      <td>False</td>\n",
              "      <td>False</td>\n",
              "      <td>...</td>\n",
              "      <td>False</td>\n",
              "      <td>False</td>\n",
              "      <td>False</td>\n",
              "      <td>False</td>\n",
              "      <td>False</td>\n",
              "      <td>False</td>\n",
              "      <td>False</td>\n",
              "      <td>False</td>\n",
              "      <td>True</td>\n",
              "      <td>False</td>\n",
              "    </tr>\n",
              "    <tr>\n",
              "      <th>9995</th>\n",
              "      <td>7</td>\n",
              "      <td>466.73</td>\n",
              "      <td>881.0</td>\n",
              "      <td>414.27</td>\n",
              "      <td>0.0</td>\n",
              "      <td>0.0</td>\n",
              "      <td>0</td>\n",
              "      <td>0</td>\n",
              "      <td>False</td>\n",
              "      <td>False</td>\n",
              "      <td>...</td>\n",
              "      <td>False</td>\n",
              "      <td>False</td>\n",
              "      <td>False</td>\n",
              "      <td>False</td>\n",
              "      <td>False</td>\n",
              "      <td>False</td>\n",
              "      <td>False</td>\n",
              "      <td>False</td>\n",
              "      <td>True</td>\n",
              "      <td>False</td>\n",
              "    </tr>\n",
              "    <tr>\n",
              "      <th>9996</th>\n",
              "      <td>7</td>\n",
              "      <td>8239.66</td>\n",
              "      <td>11515.0</td>\n",
              "      <td>3275.34</td>\n",
              "      <td>0.0</td>\n",
              "      <td>0.0</td>\n",
              "      <td>0</td>\n",
              "      <td>0</td>\n",
              "      <td>False</td>\n",
              "      <td>False</td>\n",
              "      <td>...</td>\n",
              "      <td>False</td>\n",
              "      <td>False</td>\n",
              "      <td>False</td>\n",
              "      <td>False</td>\n",
              "      <td>False</td>\n",
              "      <td>False</td>\n",
              "      <td>False</td>\n",
              "      <td>False</td>\n",
              "      <td>True</td>\n",
              "      <td>False</td>\n",
              "    </tr>\n",
              "    <tr>\n",
              "      <th>9997</th>\n",
              "      <td>7</td>\n",
              "      <td>6063.34</td>\n",
              "      <td>31409.0</td>\n",
              "      <td>25345.66</td>\n",
              "      <td>0.0</td>\n",
              "      <td>0.0</td>\n",
              "      <td>0</td>\n",
              "      <td>0</td>\n",
              "      <td>False</td>\n",
              "      <td>False</td>\n",
              "      <td>...</td>\n",
              "      <td>False</td>\n",
              "      <td>False</td>\n",
              "      <td>False</td>\n",
              "      <td>False</td>\n",
              "      <td>False</td>\n",
              "      <td>False</td>\n",
              "      <td>False</td>\n",
              "      <td>False</td>\n",
              "      <td>True</td>\n",
              "      <td>False</td>\n",
              "    </tr>\n",
              "    <tr>\n",
              "      <th>9998</th>\n",
              "      <td>7</td>\n",
              "      <td>317806.64</td>\n",
              "      <td>10901.0</td>\n",
              "      <td>0.00</td>\n",
              "      <td>103168.0</td>\n",
              "      <td>0.0</td>\n",
              "      <td>0</td>\n",
              "      <td>0</td>\n",
              "      <td>False</td>\n",
              "      <td>False</td>\n",
              "      <td>...</td>\n",
              "      <td>False</td>\n",
              "      <td>False</td>\n",
              "      <td>False</td>\n",
              "      <td>False</td>\n",
              "      <td>False</td>\n",
              "      <td>False</td>\n",
              "      <td>False</td>\n",
              "      <td>False</td>\n",
              "      <td>False</td>\n",
              "      <td>True</td>\n",
              "    </tr>\n",
              "  </tbody>\n",
              "</table>\n",
              "<p>5 rows × 16408 columns</p>\n",
              "</div>"
            ],
            "text/plain": [
              "      step     amount  oldbalanceOrg  newbalanceOrig  oldbalanceDest  \\\n",
              "9994     7     115.38       249688.0       249572.62             0.0   \n",
              "9995     7     466.73          881.0          414.27             0.0   \n",
              "9996     7    8239.66        11515.0         3275.34             0.0   \n",
              "9997     7    6063.34        31409.0        25345.66             0.0   \n",
              "9998     7  317806.64        10901.0            0.00        103168.0   \n",
              "\n",
              "      newbalanceDest  isFraud  isFlaggedFraud  nameOrig_C10001825  \\\n",
              "9994             0.0        0               0               False   \n",
              "9995             0.0        0               0               False   \n",
              "9996             0.0        0               0               False   \n",
              "9997             0.0        0               0               False   \n",
              "9998             0.0        0               0               False   \n",
              "\n",
              "      nameOrig_C100033245  ...  nameDest_M998458782  nameDest_M998935228  \\\n",
              "9994                False  ...                False                False   \n",
              "9995                False  ...                False                False   \n",
              "9996                False  ...                False                False   \n",
              "9997                False  ...                False                False   \n",
              "9998                False  ...                False                False   \n",
              "\n",
              "      nameDest_M998983750  nameDest_M999036382  nameDest_M999221400  \\\n",
              "9994                False                False                False   \n",
              "9995                False                False                False   \n",
              "9996                False                False                False   \n",
              "9997                False                False                False   \n",
              "9998                False                False                False   \n",
              "\n",
              "      type_CASH_IN  type_CASH_OUT  type_DEBIT  type_PAYMENT  type_TRANSFER  \n",
              "9994         False          False       False          True          False  \n",
              "9995         False          False       False          True          False  \n",
              "9996         False          False       False          True          False  \n",
              "9997         False          False       False          True          False  \n",
              "9998         False          False       False         False           True  \n",
              "\n",
              "[5 rows x 16408 columns]"
            ]
          },
          "execution_count": 6,
          "metadata": {},
          "output_type": "execute_result"
        }
      ],
      "source": [
        "transaction_data.tail()"
      ]
    },
    {
      "cell_type": "code",
      "execution_count": 7,
      "metadata": {
        "colab": {
          "base_uri": "https://localhost:8080/"
        },
        "id": "sDS3XduZxmxd",
        "outputId": "3a0b7967-74b9-4949-c1f7-6b681451c244"
      },
      "outputs": [
        {
          "name": "stdout",
          "output_type": "stream",
          "text": [
            "<class 'pandas.core.frame.DataFrame'>\n",
            "RangeIndex: 9999 entries, 0 to 9998\n",
            "Columns: 16408 entries, step to type_TRANSFER\n",
            "dtypes: bool(16400), float64(5), int64(3)\n",
            "memory usage: 157.0 MB\n"
          ]
        }
      ],
      "source": [
        "#dataset informations\n",
        "transaction_data.info()"
      ]
    },
    {
      "cell_type": "code",
      "execution_count": 8,
      "metadata": {
        "colab": {
          "base_uri": "https://localhost:8080/"
        },
        "id": "wjCAeTQRyCIM",
        "outputId": "9de9c314-0479-490e-d7d1-5c5e2b958ac3"
      },
      "outputs": [
        {
          "data": {
            "text/plain": [
              "step              0\n",
              "amount            0\n",
              "oldbalanceOrg     0\n",
              "newbalanceOrig    0\n",
              "oldbalanceDest    0\n",
              "                 ..\n",
              "type_CASH_IN      0\n",
              "type_CASH_OUT     0\n",
              "type_DEBIT        0\n",
              "type_PAYMENT      0\n",
              "type_TRANSFER     0\n",
              "Length: 16408, dtype: int64"
            ]
          },
          "execution_count": 8,
          "metadata": {},
          "output_type": "execute_result"
        }
      ],
      "source": [
        "#checking the number of missing values in each column\n",
        "transaction_data.isnull().sum()"
      ]
    },
    {
      "cell_type": "code",
      "execution_count": 9,
      "metadata": {
        "colab": {
          "base_uri": "https://localhost:8080/"
        },
        "id": "P7zRWhfRyXCw",
        "outputId": "0973f7ed-3ba9-49e7-c009-65147e91a75a"
      },
      "outputs": [
        {
          "data": {
            "text/plain": [
              "isFraud\n",
              "0    9931\n",
              "1      68\n",
              "Name: count, dtype: int64"
            ]
          },
          "execution_count": 9,
          "metadata": {},
          "output_type": "execute_result"
        }
      ],
      "source": [
        "#distribution of legit transactions & fraudulent transactions\n",
        "transaction_data['isFraud'].value_counts()"
      ]
    },
    {
      "cell_type": "code",
      "execution_count": 10,
      "metadata": {
        "id": "JSOUDLsayzCo"
      },
      "outputs": [],
      "source": [
        "#seperating the data for analysis\n",
        "legit = transaction_data[transaction_data.isFraud == 0]\n",
        "fraud = transaction_data[transaction_data.isFraud == 1]"
      ]
    },
    {
      "cell_type": "code",
      "execution_count": 11,
      "metadata": {
        "colab": {
          "base_uri": "https://localhost:8080/"
        },
        "id": "VPqpk7RM0vIi",
        "outputId": "c8846edc-c467-4c81-dee2-2ec2257d90d6"
      },
      "outputs": [
        {
          "name": "stdout",
          "output_type": "stream",
          "text": [
            "(9931, 16408)\n",
            "(68, 16408)\n"
          ]
        }
      ],
      "source": [
        "print(legit.shape)\n",
        "print(fraud.shape)"
      ]
    },
    {
      "cell_type": "code",
      "execution_count": 12,
      "metadata": {
        "colab": {
          "base_uri": "https://localhost:8080/"
        },
        "id": "7fG4P7OH09eL",
        "outputId": "dab3fc96-00bc-44e6-b40f-ec9caac70eec"
      },
      "outputs": [
        {
          "data": {
            "text/plain": [
              "count    9.931000e+03\n",
              "mean     1.006129e+05\n",
              "std      2.222386e+05\n",
              "min      2.390000e+00\n",
              "25%      4.372520e+03\n",
              "50%      1.274265e+04\n",
              "75%      1.140623e+05\n",
              "max      3.776389e+06\n",
              "Name: amount, dtype: float64"
            ]
          },
          "execution_count": 12,
          "metadata": {},
          "output_type": "execute_result"
        }
      ],
      "source": [
        "# statistical measures of the data\n",
        "legit.amount.describe()"
      ]
    },
    {
      "cell_type": "code",
      "execution_count": 13,
      "metadata": {
        "colab": {
          "base_uri": "https://localhost:8080/"
        },
        "id": "DO8zwuWX1ixe",
        "outputId": "a75da543-a631-44d1-bfa8-b929697613bb"
      },
      "outputs": [
        {
          "data": {
            "text/plain": [
              "count    6.800000e+01\n",
              "mean     5.334636e+05\n",
              "std      1.753539e+06\n",
              "min      1.810000e+02\n",
              "25%      1.494984e+04\n",
              "50%      2.864476e+04\n",
              "75%      1.815618e+05\n",
              "max      1.000000e+07\n",
              "Name: amount, dtype: float64"
            ]
          },
          "execution_count": 13,
          "metadata": {},
          "output_type": "execute_result"
        }
      ],
      "source": [
        "fraud.amount.describe()"
      ]
    },
    {
      "cell_type": "code",
      "execution_count": 14,
      "metadata": {
        "colab": {
          "base_uri": "https://localhost:8080/",
          "height": 192
        },
        "id": "E6ZEmRoa1r0D",
        "outputId": "7f39ebf8-3d6b-4429-91ba-b747f12f276c"
      },
      "outputs": [
        {
          "data": {
            "text/html": [
              "<div>\n",
              "<style scoped>\n",
              "    .dataframe tbody tr th:only-of-type {\n",
              "        vertical-align: middle;\n",
              "    }\n",
              "\n",
              "    .dataframe tbody tr th {\n",
              "        vertical-align: top;\n",
              "    }\n",
              "\n",
              "    .dataframe thead th {\n",
              "        text-align: right;\n",
              "    }\n",
              "</style>\n",
              "<table border=\"1\" class=\"dataframe\">\n",
              "  <thead>\n",
              "    <tr style=\"text-align: right;\">\n",
              "      <th></th>\n",
              "      <th>step</th>\n",
              "      <th>amount</th>\n",
              "      <th>oldbalanceOrg</th>\n",
              "      <th>newbalanceOrig</th>\n",
              "      <th>oldbalanceDest</th>\n",
              "      <th>newbalanceDest</th>\n",
              "      <th>isFlaggedFraud</th>\n",
              "      <th>nameOrig_C10001825</th>\n",
              "      <th>nameOrig_C100033245</th>\n",
              "      <th>nameOrig_C1000600589</th>\n",
              "      <th>...</th>\n",
              "      <th>nameDest_M998458782</th>\n",
              "      <th>nameDest_M998935228</th>\n",
              "      <th>nameDest_M998983750</th>\n",
              "      <th>nameDest_M999036382</th>\n",
              "      <th>nameDest_M999221400</th>\n",
              "      <th>type_CASH_IN</th>\n",
              "      <th>type_CASH_OUT</th>\n",
              "      <th>type_DEBIT</th>\n",
              "      <th>type_PAYMENT</th>\n",
              "      <th>type_TRANSFER</th>\n",
              "    </tr>\n",
              "    <tr>\n",
              "      <th>isFraud</th>\n",
              "      <th></th>\n",
              "      <th></th>\n",
              "      <th></th>\n",
              "      <th></th>\n",
              "      <th></th>\n",
              "      <th></th>\n",
              "      <th></th>\n",
              "      <th></th>\n",
              "      <th></th>\n",
              "      <th></th>\n",
              "      <th></th>\n",
              "      <th></th>\n",
              "      <th></th>\n",
              "      <th></th>\n",
              "      <th></th>\n",
              "      <th></th>\n",
              "      <th></th>\n",
              "      <th></th>\n",
              "      <th></th>\n",
              "      <th></th>\n",
              "      <th></th>\n",
              "    </tr>\n",
              "  </thead>\n",
              "  <tbody>\n",
              "    <tr>\n",
              "      <th>0</th>\n",
              "      <td>4.181049</td>\n",
              "      <td>100612.856298</td>\n",
              "      <td>896244.918944</td>\n",
              "      <td>921332.713084</td>\n",
              "      <td>939021.445319</td>\n",
              "      <td>1.099432e+06</td>\n",
              "      <td>0.0</td>\n",
              "      <td>0.000101</td>\n",
              "      <td>0.000101</td>\n",
              "      <td>0.000101</td>\n",
              "      <td>...</td>\n",
              "      <td>0.000101</td>\n",
              "      <td>0.000101</td>\n",
              "      <td>0.000101</td>\n",
              "      <td>0.000101</td>\n",
              "      <td>0.000101</td>\n",
              "      <td>0.196254</td>\n",
              "      <td>0.129494</td>\n",
              "      <td>0.034639</td>\n",
              "      <td>0.550196</td>\n",
              "      <td>0.089417</td>\n",
              "    </tr>\n",
              "    <tr>\n",
              "      <th>1</th>\n",
              "      <td>3.823529</td>\n",
              "      <td>533463.638676</td>\n",
              "      <td>568552.955588</td>\n",
              "      <td>43094.388824</td>\n",
              "      <td>254942.847794</td>\n",
              "      <td>7.000055e+05</td>\n",
              "      <td>0.0</td>\n",
              "      <td>0.000000</td>\n",
              "      <td>0.000000</td>\n",
              "      <td>0.000000</td>\n",
              "      <td>...</td>\n",
              "      <td>0.000000</td>\n",
              "      <td>0.000000</td>\n",
              "      <td>0.000000</td>\n",
              "      <td>0.000000</td>\n",
              "      <td>0.000000</td>\n",
              "      <td>0.000000</td>\n",
              "      <td>0.514706</td>\n",
              "      <td>0.000000</td>\n",
              "      <td>0.000000</td>\n",
              "      <td>0.485294</td>\n",
              "    </tr>\n",
              "  </tbody>\n",
              "</table>\n",
              "<p>2 rows × 16407 columns</p>\n",
              "</div>"
            ],
            "text/plain": [
              "             step         amount  oldbalanceOrg  newbalanceOrig  \\\n",
              "isFraud                                                           \n",
              "0        4.181049  100612.856298  896244.918944   921332.713084   \n",
              "1        3.823529  533463.638676  568552.955588    43094.388824   \n",
              "\n",
              "         oldbalanceDest  newbalanceDest  isFlaggedFraud  nameOrig_C10001825  \\\n",
              "isFraud                                                                       \n",
              "0         939021.445319    1.099432e+06             0.0            0.000101   \n",
              "1         254942.847794    7.000055e+05             0.0            0.000000   \n",
              "\n",
              "         nameOrig_C100033245  nameOrig_C1000600589  ...  nameDest_M998458782  \\\n",
              "isFraud                                             ...                        \n",
              "0                   0.000101              0.000101  ...             0.000101   \n",
              "1                   0.000000              0.000000  ...             0.000000   \n",
              "\n",
              "         nameDest_M998935228  nameDest_M998983750  nameDest_M999036382  \\\n",
              "isFraud                                                                  \n",
              "0                   0.000101             0.000101             0.000101   \n",
              "1                   0.000000             0.000000             0.000000   \n",
              "\n",
              "         nameDest_M999221400  type_CASH_IN  type_CASH_OUT  type_DEBIT  \\\n",
              "isFraud                                                                 \n",
              "0                   0.000101      0.196254       0.129494    0.034639   \n",
              "1                   0.000000      0.000000       0.514706    0.000000   \n",
              "\n",
              "         type_PAYMENT  type_TRANSFER  \n",
              "isFraud                               \n",
              "0            0.550196       0.089417  \n",
              "1            0.000000       0.485294  \n",
              "\n",
              "[2 rows x 16407 columns]"
            ]
          },
          "execution_count": 14,
          "metadata": {},
          "output_type": "execute_result"
        }
      ],
      "source": [
        "# compare the values for both transactions\n",
        "transaction_data.groupby('isFraud').mean()"
      ]
    },
    {
      "cell_type": "markdown",
      "metadata": {
        "id": "3JW-2nFW2ItV"
      },
      "source": [
        "Under Sampling\n",
        "Build a sample dataset containing similiar distribution of normal transactions and Fraudulent Transactions\n",
        "Number of Fraudulent Transactions -->68"
      ]
    },
    {
      "cell_type": "code",
      "execution_count": 136,
      "metadata": {
        "id": "7SAmPoYs2c2b"
      },
      "outputs": [],
      "source": [
        "legit_sample = legit.sample(n=68)"
      ]
    },
    {
      "cell_type": "markdown",
      "metadata": {
        "id": "DsiqrVcu28Kr"
      },
      "source": [
        "concatenating two DataFrames"
      ]
    },
    {
      "cell_type": "code",
      "execution_count": 137,
      "metadata": {
        "id": "PMBgHtW53GQq"
      },
      "outputs": [],
      "source": [
        "new_dataset = pd.concat([legit_sample, fraud], axis=0)"
      ]
    },
    {
      "cell_type": "code",
      "execution_count": 138,
      "metadata": {
        "colab": {
          "base_uri": "https://localhost:8080/",
          "height": 255
        },
        "id": "J3ZNHB3g3bTC",
        "outputId": "00da97a9-e4c9-43fa-c99f-e845bf2dc24b"
      },
      "outputs": [
        {
          "data": {
            "text/html": [
              "<div>\n",
              "<style scoped>\n",
              "    .dataframe tbody tr th:only-of-type {\n",
              "        vertical-align: middle;\n",
              "    }\n",
              "\n",
              "    .dataframe tbody tr th {\n",
              "        vertical-align: top;\n",
              "    }\n",
              "\n",
              "    .dataframe thead th {\n",
              "        text-align: right;\n",
              "    }\n",
              "</style>\n",
              "<table border=\"1\" class=\"dataframe\">\n",
              "  <thead>\n",
              "    <tr style=\"text-align: right;\">\n",
              "      <th></th>\n",
              "      <th>step</th>\n",
              "      <th>amount</th>\n",
              "      <th>oldbalanceOrg</th>\n",
              "      <th>newbalanceOrig</th>\n",
              "      <th>oldbalanceDest</th>\n",
              "      <th>newbalanceDest</th>\n",
              "      <th>isFraud</th>\n",
              "      <th>isFlaggedFraud</th>\n",
              "      <th>nameOrig_C10001825</th>\n",
              "      <th>nameOrig_C100033245</th>\n",
              "      <th>...</th>\n",
              "      <th>nameDest_M998458782</th>\n",
              "      <th>nameDest_M998935228</th>\n",
              "      <th>nameDest_M998983750</th>\n",
              "      <th>nameDest_M999036382</th>\n",
              "      <th>nameDest_M999221400</th>\n",
              "      <th>type_CASH_IN</th>\n",
              "      <th>type_CASH_OUT</th>\n",
              "      <th>type_DEBIT</th>\n",
              "      <th>type_PAYMENT</th>\n",
              "      <th>type_TRANSFER</th>\n",
              "    </tr>\n",
              "  </thead>\n",
              "  <tbody>\n",
              "    <tr>\n",
              "      <th>1658</th>\n",
              "      <td>1</td>\n",
              "      <td>793.64</td>\n",
              "      <td>499843.00</td>\n",
              "      <td>499049.36</td>\n",
              "      <td>0.00</td>\n",
              "      <td>0.00</td>\n",
              "      <td>0</td>\n",
              "      <td>0</td>\n",
              "      <td>False</td>\n",
              "      <td>False</td>\n",
              "      <td>...</td>\n",
              "      <td>False</td>\n",
              "      <td>False</td>\n",
              "      <td>False</td>\n",
              "      <td>False</td>\n",
              "      <td>False</td>\n",
              "      <td>False</td>\n",
              "      <td>False</td>\n",
              "      <td>False</td>\n",
              "      <td>True</td>\n",
              "      <td>False</td>\n",
              "    </tr>\n",
              "    <tr>\n",
              "      <th>6149</th>\n",
              "      <td>6</td>\n",
              "      <td>122817.49</td>\n",
              "      <td>0.00</td>\n",
              "      <td>0.00</td>\n",
              "      <td>13844492.54</td>\n",
              "      <td>13967310.03</td>\n",
              "      <td>0</td>\n",
              "      <td>0</td>\n",
              "      <td>False</td>\n",
              "      <td>False</td>\n",
              "      <td>...</td>\n",
              "      <td>False</td>\n",
              "      <td>False</td>\n",
              "      <td>False</td>\n",
              "      <td>False</td>\n",
              "      <td>False</td>\n",
              "      <td>False</td>\n",
              "      <td>True</td>\n",
              "      <td>False</td>\n",
              "      <td>False</td>\n",
              "      <td>False</td>\n",
              "    </tr>\n",
              "    <tr>\n",
              "      <th>626</th>\n",
              "      <td>1</td>\n",
              "      <td>254895.50</td>\n",
              "      <td>4247715.63</td>\n",
              "      <td>4502611.13</td>\n",
              "      <td>256668.41</td>\n",
              "      <td>2415.16</td>\n",
              "      <td>0</td>\n",
              "      <td>0</td>\n",
              "      <td>False</td>\n",
              "      <td>False</td>\n",
              "      <td>...</td>\n",
              "      <td>False</td>\n",
              "      <td>False</td>\n",
              "      <td>False</td>\n",
              "      <td>False</td>\n",
              "      <td>False</td>\n",
              "      <td>True</td>\n",
              "      <td>False</td>\n",
              "      <td>False</td>\n",
              "      <td>False</td>\n",
              "      <td>False</td>\n",
              "    </tr>\n",
              "    <tr>\n",
              "      <th>826</th>\n",
              "      <td>1</td>\n",
              "      <td>4833.96</td>\n",
              "      <td>41005.00</td>\n",
              "      <td>36171.04</td>\n",
              "      <td>0.00</td>\n",
              "      <td>0.00</td>\n",
              "      <td>0</td>\n",
              "      <td>0</td>\n",
              "      <td>False</td>\n",
              "      <td>False</td>\n",
              "      <td>...</td>\n",
              "      <td>False</td>\n",
              "      <td>False</td>\n",
              "      <td>False</td>\n",
              "      <td>False</td>\n",
              "      <td>False</td>\n",
              "      <td>False</td>\n",
              "      <td>False</td>\n",
              "      <td>False</td>\n",
              "      <td>True</td>\n",
              "      <td>False</td>\n",
              "    </tr>\n",
              "    <tr>\n",
              "      <th>7417</th>\n",
              "      <td>7</td>\n",
              "      <td>285.59</td>\n",
              "      <td>0.00</td>\n",
              "      <td>0.00</td>\n",
              "      <td>0.00</td>\n",
              "      <td>0.00</td>\n",
              "      <td>0</td>\n",
              "      <td>0</td>\n",
              "      <td>False</td>\n",
              "      <td>False</td>\n",
              "      <td>...</td>\n",
              "      <td>False</td>\n",
              "      <td>False</td>\n",
              "      <td>False</td>\n",
              "      <td>False</td>\n",
              "      <td>False</td>\n",
              "      <td>False</td>\n",
              "      <td>False</td>\n",
              "      <td>False</td>\n",
              "      <td>True</td>\n",
              "      <td>False</td>\n",
              "    </tr>\n",
              "  </tbody>\n",
              "</table>\n",
              "<p>5 rows × 16408 columns</p>\n",
              "</div>"
            ],
            "text/plain": [
              "      step     amount  oldbalanceOrg  newbalanceOrig  oldbalanceDest  \\\n",
              "1658     1     793.64      499843.00       499049.36            0.00   \n",
              "6149     6  122817.49           0.00            0.00     13844492.54   \n",
              "626      1  254895.50     4247715.63      4502611.13       256668.41   \n",
              "826      1    4833.96       41005.00        36171.04            0.00   \n",
              "7417     7     285.59           0.00            0.00            0.00   \n",
              "\n",
              "      newbalanceDest  isFraud  isFlaggedFraud  nameOrig_C10001825  \\\n",
              "1658            0.00        0               0               False   \n",
              "6149     13967310.03        0               0               False   \n",
              "626          2415.16        0               0               False   \n",
              "826             0.00        0               0               False   \n",
              "7417            0.00        0               0               False   \n",
              "\n",
              "      nameOrig_C100033245  ...  nameDest_M998458782  nameDest_M998935228  \\\n",
              "1658                False  ...                False                False   \n",
              "6149                False  ...                False                False   \n",
              "626                 False  ...                False                False   \n",
              "826                 False  ...                False                False   \n",
              "7417                False  ...                False                False   \n",
              "\n",
              "      nameDest_M998983750  nameDest_M999036382  nameDest_M999221400  \\\n",
              "1658                False                False                False   \n",
              "6149                False                False                False   \n",
              "626                 False                False                False   \n",
              "826                 False                False                False   \n",
              "7417                False                False                False   \n",
              "\n",
              "      type_CASH_IN  type_CASH_OUT  type_DEBIT  type_PAYMENT  type_TRANSFER  \n",
              "1658         False          False       False          True          False  \n",
              "6149         False           True       False         False          False  \n",
              "626           True          False       False         False          False  \n",
              "826          False          False       False          True          False  \n",
              "7417         False          False       False          True          False  \n",
              "\n",
              "[5 rows x 16408 columns]"
            ]
          },
          "execution_count": 138,
          "metadata": {},
          "output_type": "execute_result"
        }
      ],
      "source": [
        "new_dataset.head()"
      ]
    },
    {
      "cell_type": "code",
      "execution_count": 139,
      "metadata": {
        "colab": {
          "base_uri": "https://localhost:8080/",
          "height": 255
        },
        "id": "WLs22kMR3n4e",
        "outputId": "5c5bfd34-13e3-42b6-d9c9-eef94104bad7"
      },
      "outputs": [
        {
          "data": {
            "text/html": [
              "<div>\n",
              "<style scoped>\n",
              "    .dataframe tbody tr th:only-of-type {\n",
              "        vertical-align: middle;\n",
              "    }\n",
              "\n",
              "    .dataframe tbody tr th {\n",
              "        vertical-align: top;\n",
              "    }\n",
              "\n",
              "    .dataframe thead th {\n",
              "        text-align: right;\n",
              "    }\n",
              "</style>\n",
              "<table border=\"1\" class=\"dataframe\">\n",
              "  <thead>\n",
              "    <tr style=\"text-align: right;\">\n",
              "      <th></th>\n",
              "      <th>step</th>\n",
              "      <th>amount</th>\n",
              "      <th>oldbalanceOrg</th>\n",
              "      <th>newbalanceOrig</th>\n",
              "      <th>oldbalanceDest</th>\n",
              "      <th>newbalanceDest</th>\n",
              "      <th>isFraud</th>\n",
              "      <th>isFlaggedFraud</th>\n",
              "      <th>nameOrig_C10001825</th>\n",
              "      <th>nameOrig_C100033245</th>\n",
              "      <th>...</th>\n",
              "      <th>nameDest_M998458782</th>\n",
              "      <th>nameDest_M998935228</th>\n",
              "      <th>nameDest_M998983750</th>\n",
              "      <th>nameDest_M999036382</th>\n",
              "      <th>nameDest_M999221400</th>\n",
              "      <th>type_CASH_IN</th>\n",
              "      <th>type_CASH_OUT</th>\n",
              "      <th>type_DEBIT</th>\n",
              "      <th>type_PAYMENT</th>\n",
              "      <th>type_TRANSFER</th>\n",
              "    </tr>\n",
              "  </thead>\n",
              "  <tbody>\n",
              "    <tr>\n",
              "      <th>7030</th>\n",
              "      <td>6</td>\n",
              "      <td>85354.69</td>\n",
              "      <td>85354.69</td>\n",
              "      <td>0.0</td>\n",
              "      <td>11170.00</td>\n",
              "      <td>10612.55</td>\n",
              "      <td>1</td>\n",
              "      <td>0</td>\n",
              "      <td>False</td>\n",
              "      <td>False</td>\n",
              "      <td>...</td>\n",
              "      <td>False</td>\n",
              "      <td>False</td>\n",
              "      <td>False</td>\n",
              "      <td>False</td>\n",
              "      <td>False</td>\n",
              "      <td>False</td>\n",
              "      <td>True</td>\n",
              "      <td>False</td>\n",
              "      <td>False</td>\n",
              "      <td>False</td>\n",
              "    </tr>\n",
              "    <tr>\n",
              "      <th>7154</th>\n",
              "      <td>6</td>\n",
              "      <td>13704.00</td>\n",
              "      <td>13704.00</td>\n",
              "      <td>0.0</td>\n",
              "      <td>0.00</td>\n",
              "      <td>1658746.09</td>\n",
              "      <td>1</td>\n",
              "      <td>0</td>\n",
              "      <td>False</td>\n",
              "      <td>False</td>\n",
              "      <td>...</td>\n",
              "      <td>False</td>\n",
              "      <td>False</td>\n",
              "      <td>False</td>\n",
              "      <td>False</td>\n",
              "      <td>False</td>\n",
              "      <td>False</td>\n",
              "      <td>False</td>\n",
              "      <td>False</td>\n",
              "      <td>False</td>\n",
              "      <td>True</td>\n",
              "    </tr>\n",
              "    <tr>\n",
              "      <th>7155</th>\n",
              "      <td>6</td>\n",
              "      <td>13704.00</td>\n",
              "      <td>13704.00</td>\n",
              "      <td>0.0</td>\n",
              "      <td>3382.84</td>\n",
              "      <td>143675.35</td>\n",
              "      <td>1</td>\n",
              "      <td>0</td>\n",
              "      <td>False</td>\n",
              "      <td>False</td>\n",
              "      <td>...</td>\n",
              "      <td>False</td>\n",
              "      <td>False</td>\n",
              "      <td>False</td>\n",
              "      <td>False</td>\n",
              "      <td>False</td>\n",
              "      <td>False</td>\n",
              "      <td>True</td>\n",
              "      <td>False</td>\n",
              "      <td>False</td>\n",
              "      <td>False</td>\n",
              "    </tr>\n",
              "    <tr>\n",
              "      <th>9284</th>\n",
              "      <td>7</td>\n",
              "      <td>262434.54</td>\n",
              "      <td>262434.54</td>\n",
              "      <td>0.0</td>\n",
              "      <td>0.00</td>\n",
              "      <td>0.00</td>\n",
              "      <td>1</td>\n",
              "      <td>0</td>\n",
              "      <td>False</td>\n",
              "      <td>False</td>\n",
              "      <td>...</td>\n",
              "      <td>False</td>\n",
              "      <td>False</td>\n",
              "      <td>False</td>\n",
              "      <td>False</td>\n",
              "      <td>False</td>\n",
              "      <td>False</td>\n",
              "      <td>False</td>\n",
              "      <td>False</td>\n",
              "      <td>False</td>\n",
              "      <td>True</td>\n",
              "    </tr>\n",
              "    <tr>\n",
              "      <th>9285</th>\n",
              "      <td>7</td>\n",
              "      <td>262434.54</td>\n",
              "      <td>262434.54</td>\n",
              "      <td>0.0</td>\n",
              "      <td>19525.79</td>\n",
              "      <td>438233.86</td>\n",
              "      <td>1</td>\n",
              "      <td>0</td>\n",
              "      <td>False</td>\n",
              "      <td>False</td>\n",
              "      <td>...</td>\n",
              "      <td>False</td>\n",
              "      <td>False</td>\n",
              "      <td>False</td>\n",
              "      <td>False</td>\n",
              "      <td>False</td>\n",
              "      <td>False</td>\n",
              "      <td>True</td>\n",
              "      <td>False</td>\n",
              "      <td>False</td>\n",
              "      <td>False</td>\n",
              "    </tr>\n",
              "  </tbody>\n",
              "</table>\n",
              "<p>5 rows × 16408 columns</p>\n",
              "</div>"
            ],
            "text/plain": [
              "      step     amount  oldbalanceOrg  newbalanceOrig  oldbalanceDest  \\\n",
              "7030     6   85354.69       85354.69             0.0        11170.00   \n",
              "7154     6   13704.00       13704.00             0.0            0.00   \n",
              "7155     6   13704.00       13704.00             0.0         3382.84   \n",
              "9284     7  262434.54      262434.54             0.0            0.00   \n",
              "9285     7  262434.54      262434.54             0.0        19525.79   \n",
              "\n",
              "      newbalanceDest  isFraud  isFlaggedFraud  nameOrig_C10001825  \\\n",
              "7030        10612.55        1               0               False   \n",
              "7154      1658746.09        1               0               False   \n",
              "7155       143675.35        1               0               False   \n",
              "9284            0.00        1               0               False   \n",
              "9285       438233.86        1               0               False   \n",
              "\n",
              "      nameOrig_C100033245  ...  nameDest_M998458782  nameDest_M998935228  \\\n",
              "7030                False  ...                False                False   \n",
              "7154                False  ...                False                False   \n",
              "7155                False  ...                False                False   \n",
              "9284                False  ...                False                False   \n",
              "9285                False  ...                False                False   \n",
              "\n",
              "      nameDest_M998983750  nameDest_M999036382  nameDest_M999221400  \\\n",
              "7030                False                False                False   \n",
              "7154                False                False                False   \n",
              "7155                False                False                False   \n",
              "9284                False                False                False   \n",
              "9285                False                False                False   \n",
              "\n",
              "      type_CASH_IN  type_CASH_OUT  type_DEBIT  type_PAYMENT  type_TRANSFER  \n",
              "7030         False           True       False         False          False  \n",
              "7154         False          False       False         False           True  \n",
              "7155         False           True       False         False          False  \n",
              "9284         False          False       False         False           True  \n",
              "9285         False           True       False         False          False  \n",
              "\n",
              "[5 rows x 16408 columns]"
            ]
          },
          "execution_count": 139,
          "metadata": {},
          "output_type": "execute_result"
        }
      ],
      "source": [
        "new_dataset.tail()"
      ]
    },
    {
      "cell_type": "code",
      "execution_count": 140,
      "metadata": {
        "colab": {
          "base_uri": "https://localhost:8080/"
        },
        "id": "S2W1hQjL35K7",
        "outputId": "52d73c32-d381-478e-c03b-a37302951999"
      },
      "outputs": [
        {
          "data": {
            "text/plain": [
              "isFraud\n",
              "0    68\n",
              "1    68\n",
              "Name: count, dtype: int64"
            ]
          },
          "execution_count": 140,
          "metadata": {},
          "output_type": "execute_result"
        }
      ],
      "source": [
        "new_dataset['isFraud'].value_counts()"
      ]
    },
    {
      "cell_type": "code",
      "execution_count": 141,
      "metadata": {
        "colab": {
          "base_uri": "https://localhost:8080/",
          "height": 192
        },
        "id": "vvcvW3nl4IIp",
        "outputId": "a763f64a-aef0-4364-b741-093282867c81"
      },
      "outputs": [
        {
          "data": {
            "text/html": [
              "<div>\n",
              "<style scoped>\n",
              "    .dataframe tbody tr th:only-of-type {\n",
              "        vertical-align: middle;\n",
              "    }\n",
              "\n",
              "    .dataframe tbody tr th {\n",
              "        vertical-align: top;\n",
              "    }\n",
              "\n",
              "    .dataframe thead th {\n",
              "        text-align: right;\n",
              "    }\n",
              "</style>\n",
              "<table border=\"1\" class=\"dataframe\">\n",
              "  <thead>\n",
              "    <tr style=\"text-align: right;\">\n",
              "      <th></th>\n",
              "      <th>step</th>\n",
              "      <th>amount</th>\n",
              "      <th>oldbalanceOrg</th>\n",
              "      <th>newbalanceOrig</th>\n",
              "      <th>oldbalanceDest</th>\n",
              "      <th>newbalanceDest</th>\n",
              "      <th>isFlaggedFraud</th>\n",
              "      <th>nameOrig_C10001825</th>\n",
              "      <th>nameOrig_C100033245</th>\n",
              "      <th>nameOrig_C1000600589</th>\n",
              "      <th>...</th>\n",
              "      <th>nameDest_M998458782</th>\n",
              "      <th>nameDest_M998935228</th>\n",
              "      <th>nameDest_M998983750</th>\n",
              "      <th>nameDest_M999036382</th>\n",
              "      <th>nameDest_M999221400</th>\n",
              "      <th>type_CASH_IN</th>\n",
              "      <th>type_CASH_OUT</th>\n",
              "      <th>type_DEBIT</th>\n",
              "      <th>type_PAYMENT</th>\n",
              "      <th>type_TRANSFER</th>\n",
              "    </tr>\n",
              "    <tr>\n",
              "      <th>isFraud</th>\n",
              "      <th></th>\n",
              "      <th></th>\n",
              "      <th></th>\n",
              "      <th></th>\n",
              "      <th></th>\n",
              "      <th></th>\n",
              "      <th></th>\n",
              "      <th></th>\n",
              "      <th></th>\n",
              "      <th></th>\n",
              "      <th></th>\n",
              "      <th></th>\n",
              "      <th></th>\n",
              "      <th></th>\n",
              "      <th></th>\n",
              "      <th></th>\n",
              "      <th></th>\n",
              "      <th></th>\n",
              "      <th></th>\n",
              "      <th></th>\n",
              "      <th></th>\n",
              "    </tr>\n",
              "  </thead>\n",
              "  <tbody>\n",
              "    <tr>\n",
              "      <th>0</th>\n",
              "      <td>4.485294</td>\n",
              "      <td>119459.594118</td>\n",
              "      <td>905045.891765</td>\n",
              "      <td>929254.297500</td>\n",
              "      <td>813069.904853</td>\n",
              "      <td>987247.159706</td>\n",
              "      <td>0.0</td>\n",
              "      <td>0.0</td>\n",
              "      <td>0.0</td>\n",
              "      <td>0.0</td>\n",
              "      <td>...</td>\n",
              "      <td>0.0</td>\n",
              "      <td>0.0</td>\n",
              "      <td>0.0</td>\n",
              "      <td>0.0</td>\n",
              "      <td>0.0</td>\n",
              "      <td>0.191176</td>\n",
              "      <td>0.058824</td>\n",
              "      <td>0.014706</td>\n",
              "      <td>0.632353</td>\n",
              "      <td>0.102941</td>\n",
              "    </tr>\n",
              "    <tr>\n",
              "      <th>1</th>\n",
              "      <td>3.823529</td>\n",
              "      <td>533463.638676</td>\n",
              "      <td>568552.955588</td>\n",
              "      <td>43094.388824</td>\n",
              "      <td>254942.847794</td>\n",
              "      <td>700005.515735</td>\n",
              "      <td>0.0</td>\n",
              "      <td>0.0</td>\n",
              "      <td>0.0</td>\n",
              "      <td>0.0</td>\n",
              "      <td>...</td>\n",
              "      <td>0.0</td>\n",
              "      <td>0.0</td>\n",
              "      <td>0.0</td>\n",
              "      <td>0.0</td>\n",
              "      <td>0.0</td>\n",
              "      <td>0.000000</td>\n",
              "      <td>0.514706</td>\n",
              "      <td>0.000000</td>\n",
              "      <td>0.000000</td>\n",
              "      <td>0.485294</td>\n",
              "    </tr>\n",
              "  </tbody>\n",
              "</table>\n",
              "<p>2 rows × 16407 columns</p>\n",
              "</div>"
            ],
            "text/plain": [
              "             step         amount  oldbalanceOrg  newbalanceOrig  \\\n",
              "isFraud                                                           \n",
              "0        4.485294  119459.594118  905045.891765   929254.297500   \n",
              "1        3.823529  533463.638676  568552.955588    43094.388824   \n",
              "\n",
              "         oldbalanceDest  newbalanceDest  isFlaggedFraud  nameOrig_C10001825  \\\n",
              "isFraud                                                                       \n",
              "0         813069.904853   987247.159706             0.0                 0.0   \n",
              "1         254942.847794   700005.515735             0.0                 0.0   \n",
              "\n",
              "         nameOrig_C100033245  nameOrig_C1000600589  ...  nameDest_M998458782  \\\n",
              "isFraud                                             ...                        \n",
              "0                        0.0                   0.0  ...                  0.0   \n",
              "1                        0.0                   0.0  ...                  0.0   \n",
              "\n",
              "         nameDest_M998935228  nameDest_M998983750  nameDest_M999036382  \\\n",
              "isFraud                                                                  \n",
              "0                        0.0                  0.0                  0.0   \n",
              "1                        0.0                  0.0                  0.0   \n",
              "\n",
              "         nameDest_M999221400  type_CASH_IN  type_CASH_OUT  type_DEBIT  \\\n",
              "isFraud                                                                 \n",
              "0                        0.0      0.191176       0.058824    0.014706   \n",
              "1                        0.0      0.000000       0.514706    0.000000   \n",
              "\n",
              "         type_PAYMENT  type_TRANSFER  \n",
              "isFraud                               \n",
              "0            0.632353       0.102941  \n",
              "1            0.000000       0.485294  \n",
              "\n",
              "[2 rows x 16407 columns]"
            ]
          },
          "execution_count": 141,
          "metadata": {},
          "output_type": "execute_result"
        }
      ],
      "source": [
        "new_dataset.groupby('isFraud').mean()"
      ]
    },
    {
      "cell_type": "markdown",
      "metadata": {
        "id": "v5ezFMDL4UbX"
      },
      "source": [
        "splitting the data into features & targets"
      ]
    },
    {
      "cell_type": "code",
      "execution_count": 142,
      "metadata": {
        "id": "4NLacqiI4Y1o"
      },
      "outputs": [],
      "source": [
        "X = new_dataset.drop(columns='isFraud', axis=1)\n",
        "Y = new_dataset['isFraud']"
      ]
    },
    {
      "cell_type": "code",
      "execution_count": 143,
      "metadata": {
        "colab": {
          "base_uri": "https://localhost:8080/"
        },
        "id": "wp6U8DxT48vc",
        "outputId": "d4bd7e52-7810-462b-d0a9-f0422d44187c"
      },
      "outputs": [
        {
          "name": "stdout",
          "output_type": "stream",
          "text": [
            "      step     amount  oldbalanceOrg  newbalanceOrig  oldbalanceDest  \\\n",
            "1658     1     793.64      499843.00       499049.36            0.00   \n",
            "6149     6  122817.49           0.00            0.00     13844492.54   \n",
            "626      1  254895.50     4247715.63      4502611.13       256668.41   \n",
            "826      1    4833.96       41005.00        36171.04            0.00   \n",
            "7417     7     285.59           0.00            0.00            0.00   \n",
            "...    ...        ...            ...             ...             ...   \n",
            "7030     6   85354.69       85354.69            0.00        11170.00   \n",
            "7154     6   13704.00       13704.00            0.00            0.00   \n",
            "7155     6   13704.00       13704.00            0.00         3382.84   \n",
            "9284     7  262434.54      262434.54            0.00            0.00   \n",
            "9285     7  262434.54      262434.54            0.00        19525.79   \n",
            "\n",
            "      newbalanceDest  isFlaggedFraud  nameOrig_C10001825  nameOrig_C100033245  \\\n",
            "1658            0.00               0               False                False   \n",
            "6149     13967310.03               0               False                False   \n",
            "626          2415.16               0               False                False   \n",
            "826             0.00               0               False                False   \n",
            "7417            0.00               0               False                False   \n",
            "...              ...             ...                 ...                  ...   \n",
            "7030        10612.55               0               False                False   \n",
            "7154      1658746.09               0               False                False   \n",
            "7155       143675.35               0               False                False   \n",
            "9284            0.00               0               False                False   \n",
            "9285       438233.86               0               False                False   \n",
            "\n",
            "      nameOrig_C1000600589  ...  nameDest_M998458782  nameDest_M998935228  \\\n",
            "1658                 False  ...                False                False   \n",
            "6149                 False  ...                False                False   \n",
            "626                  False  ...                False                False   \n",
            "826                  False  ...                False                False   \n",
            "7417                 False  ...                False                False   \n",
            "...                    ...  ...                  ...                  ...   \n",
            "7030                 False  ...                False                False   \n",
            "7154                 False  ...                False                False   \n",
            "7155                 False  ...                False                False   \n",
            "9284                 False  ...                False                False   \n",
            "9285                 False  ...                False                False   \n",
            "\n",
            "      nameDest_M998983750  nameDest_M999036382  nameDest_M999221400  \\\n",
            "1658                False                False                False   \n",
            "6149                False                False                False   \n",
            "626                 False                False                False   \n",
            "826                 False                False                False   \n",
            "7417                False                False                False   \n",
            "...                   ...                  ...                  ...   \n",
            "7030                False                False                False   \n",
            "7154                False                False                False   \n",
            "7155                False                False                False   \n",
            "9284                False                False                False   \n",
            "9285                False                False                False   \n",
            "\n",
            "      type_CASH_IN  type_CASH_OUT  type_DEBIT  type_PAYMENT  type_TRANSFER  \n",
            "1658         False          False       False          True          False  \n",
            "6149         False           True       False         False          False  \n",
            "626           True          False       False         False          False  \n",
            "826          False          False       False          True          False  \n",
            "7417         False          False       False          True          False  \n",
            "...            ...            ...         ...           ...            ...  \n",
            "7030         False           True       False         False          False  \n",
            "7154         False          False       False         False           True  \n",
            "7155         False           True       False         False          False  \n",
            "9284         False          False       False         False           True  \n",
            "9285         False           True       False         False          False  \n",
            "\n",
            "[136 rows x 16407 columns]\n"
          ]
        }
      ],
      "source": [
        "print(X)"
      ]
    },
    {
      "cell_type": "code",
      "execution_count": 144,
      "metadata": {
        "colab": {
          "base_uri": "https://localhost:8080/"
        },
        "id": "-QBJrB5W5Fpi",
        "outputId": "556c2050-cb35-40c8-8df3-0a7c00293e24"
      },
      "outputs": [
        {
          "name": "stdout",
          "output_type": "stream",
          "text": [
            "1658    0\n",
            "6149    0\n",
            "626     0\n",
            "826     0\n",
            "7417    0\n",
            "       ..\n",
            "7030    1\n",
            "7154    1\n",
            "7155    1\n",
            "9284    1\n",
            "9285    1\n",
            "Name: isFraud, Length: 136, dtype: int64\n"
          ]
        }
      ],
      "source": [
        "print(Y)"
      ]
    },
    {
      "cell_type": "markdown",
      "metadata": {
        "id": "sC0KwfEJ5MK6"
      },
      "source": [
        "Split the data into Training data & Testing Data"
      ]
    },
    {
      "cell_type": "code",
      "execution_count": 145,
      "metadata": {
        "id": "URm-dxo95Zx4"
      },
      "outputs": [],
      "source": [
        "X_train , X_test , Y_train , Y_test = train_test_split(X,Y, test_size=0.2,stratify=Y,random_state=2)"
      ]
    },
    {
      "cell_type": "code",
      "execution_count": 146,
      "metadata": {
        "colab": {
          "base_uri": "https://localhost:8080/"
        },
        "id": "cAPQ91LW6Oir",
        "outputId": "97836382-8cc6-4957-eada-5685a4dfb2d5"
      },
      "outputs": [
        {
          "name": "stdout",
          "output_type": "stream",
          "text": [
            "(136, 16407) (108, 16407) (28, 16407)\n"
          ]
        }
      ],
      "source": [
        "print(X.shape, X_train.shape, X_test.shape)"
      ]
    },
    {
      "cell_type": "markdown",
      "metadata": {
        "id": "spqX20U86mPP"
      },
      "source": [
        "Model Training\n",
        "\n",
        "Logistic regression"
      ]
    },
    {
      "cell_type": "code",
      "execution_count": 147,
      "metadata": {
        "id": "IdMYoEa36-Xj"
      },
      "outputs": [],
      "source": [
        "model = LogisticRegression()"
      ]
    },
    {
      "cell_type": "code",
      "execution_count": 148,
      "metadata": {
        "colab": {
          "base_uri": "https://localhost:8080/",
          "height": 74
        },
        "id": "GTmeDiV_7Kkb",
        "outputId": "1e56d677-5758-4bf0-f0b5-eb69961a4ce7"
      },
      "outputs": [
        {
          "data": {
            "text/html": [
              "<style>#sk-container-id-8 {color: black;}#sk-container-id-8 pre{padding: 0;}#sk-container-id-8 div.sk-toggleable {background-color: white;}#sk-container-id-8 label.sk-toggleable__label {cursor: pointer;display: block;width: 100%;margin-bottom: 0;padding: 0.3em;box-sizing: border-box;text-align: center;}#sk-container-id-8 label.sk-toggleable__label-arrow:before {content: \"▸\";float: left;margin-right: 0.25em;color: #696969;}#sk-container-id-8 label.sk-toggleable__label-arrow:hover:before {color: black;}#sk-container-id-8 div.sk-estimator:hover label.sk-toggleable__label-arrow:before {color: black;}#sk-container-id-8 div.sk-toggleable__content {max-height: 0;max-width: 0;overflow: hidden;text-align: left;background-color: #f0f8ff;}#sk-container-id-8 div.sk-toggleable__content pre {margin: 0.2em;color: black;border-radius: 0.25em;background-color: #f0f8ff;}#sk-container-id-8 input.sk-toggleable__control:checked~div.sk-toggleable__content {max-height: 200px;max-width: 100%;overflow: auto;}#sk-container-id-8 input.sk-toggleable__control:checked~label.sk-toggleable__label-arrow:before {content: \"▾\";}#sk-container-id-8 div.sk-estimator input.sk-toggleable__control:checked~label.sk-toggleable__label {background-color: #d4ebff;}#sk-container-id-8 div.sk-label input.sk-toggleable__control:checked~label.sk-toggleable__label {background-color: #d4ebff;}#sk-container-id-8 input.sk-hidden--visually {border: 0;clip: rect(1px 1px 1px 1px);clip: rect(1px, 1px, 1px, 1px);height: 1px;margin: -1px;overflow: hidden;padding: 0;position: absolute;width: 1px;}#sk-container-id-8 div.sk-estimator {font-family: monospace;background-color: #f0f8ff;border: 1px dotted black;border-radius: 0.25em;box-sizing: border-box;margin-bottom: 0.5em;}#sk-container-id-8 div.sk-estimator:hover {background-color: #d4ebff;}#sk-container-id-8 div.sk-parallel-item::after {content: \"\";width: 100%;border-bottom: 1px solid gray;flex-grow: 1;}#sk-container-id-8 div.sk-label:hover label.sk-toggleable__label {background-color: #d4ebff;}#sk-container-id-8 div.sk-serial::before {content: \"\";position: absolute;border-left: 1px solid gray;box-sizing: border-box;top: 0;bottom: 0;left: 50%;z-index: 0;}#sk-container-id-8 div.sk-serial {display: flex;flex-direction: column;align-items: center;background-color: white;padding-right: 0.2em;padding-left: 0.2em;position: relative;}#sk-container-id-8 div.sk-item {position: relative;z-index: 1;}#sk-container-id-8 div.sk-parallel {display: flex;align-items: stretch;justify-content: center;background-color: white;position: relative;}#sk-container-id-8 div.sk-item::before, #sk-container-id-8 div.sk-parallel-item::before {content: \"\";position: absolute;border-left: 1px solid gray;box-sizing: border-box;top: 0;bottom: 0;left: 50%;z-index: -1;}#sk-container-id-8 div.sk-parallel-item {display: flex;flex-direction: column;z-index: 1;position: relative;background-color: white;}#sk-container-id-8 div.sk-parallel-item:first-child::after {align-self: flex-end;width: 50%;}#sk-container-id-8 div.sk-parallel-item:last-child::after {align-self: flex-start;width: 50%;}#sk-container-id-8 div.sk-parallel-item:only-child::after {width: 0;}#sk-container-id-8 div.sk-dashed-wrapped {border: 1px dashed gray;margin: 0 0.4em 0.5em 0.4em;box-sizing: border-box;padding-bottom: 0.4em;background-color: white;}#sk-container-id-8 div.sk-label label {font-family: monospace;font-weight: bold;display: inline-block;line-height: 1.2em;}#sk-container-id-8 div.sk-label-container {text-align: center;}#sk-container-id-8 div.sk-container {/* jupyter's `normalize.less` sets `[hidden] { display: none; }` but bootstrap.min.css set `[hidden] { display: none !important; }` so we also need the `!important` here to be able to override the default hidden behavior on the sphinx rendered scikit-learn.org. See: https://github.com/scikit-learn/scikit-learn/issues/21755 */display: inline-block !important;position: relative;}#sk-container-id-8 div.sk-text-repr-fallback {display: none;}</style><div id=\"sk-container-id-8\" class=\"sk-top-container\"><div class=\"sk-text-repr-fallback\"><pre>LogisticRegression()</pre><b>In a Jupyter environment, please rerun this cell to show the HTML representation or trust the notebook. <br />On GitHub, the HTML representation is unable to render, please try loading this page with nbviewer.org.</b></div><div class=\"sk-container\" hidden><div class=\"sk-item\"><div class=\"sk-estimator sk-toggleable\"><input class=\"sk-toggleable__control sk-hidden--visually\" id=\"sk-estimator-id-8\" type=\"checkbox\" checked><label for=\"sk-estimator-id-8\" class=\"sk-toggleable__label sk-toggleable__label-arrow\">LogisticRegression</label><div class=\"sk-toggleable__content\"><pre>LogisticRegression()</pre></div></div></div></div></div>"
            ],
            "text/plain": [
              "LogisticRegression()"
            ]
          },
          "execution_count": 148,
          "metadata": {},
          "output_type": "execute_result"
        }
      ],
      "source": [
        "#training the Logistic Regression Model with Training Data\n",
        "model.fit(X_train, Y_train)"
      ]
    },
    {
      "cell_type": "code",
      "execution_count": 149,
      "metadata": {
        "id": "ianEVZJ37yVs"
      },
      "outputs": [],
      "source": [
        "# accuracy on training data\n",
        "X_train_prediction = model.predict(X_train)\n",
        "training_data_accuracy = accuracy_score(X_train_prediction,Y_train)"
      ]
    },
    {
      "cell_type": "code",
      "execution_count": 150,
      "metadata": {
        "colab": {
          "base_uri": "https://localhost:8080/"
        },
        "id": "B3oZTpCmCP0Q",
        "outputId": "1e7eed9f-41e7-4256-c846-ab2483998262"
      },
      "outputs": [
        {
          "name": "stdout",
          "output_type": "stream",
          "text": [
            "Accuracy on training data : 0.9444444444444444\n"
          ]
        }
      ],
      "source": [
        "print(\"Accuracy on training data :\",training_data_accuracy)"
      ]
    },
    {
      "cell_type": "code",
      "execution_count": 151,
      "metadata": {
        "id": "u57csF7wPMgf"
      },
      "outputs": [],
      "source": [
        "# accuracy on test data\n",
        "X_test_prediction = model.predict(X_test)\n",
        "test_data_accuracy = accuracy_score(X_test_prediction, Y_test)"
      ]
    },
    {
      "cell_type": "code",
      "execution_count": 152,
      "metadata": {
        "colab": {
          "base_uri": "https://localhost:8080/"
        },
        "id": "p8VxqQg6Ph87",
        "outputId": "436762f1-5a8b-46d6-b151-fe21a969b33f"
      },
      "outputs": [
        {
          "name": "stdout",
          "output_type": "stream",
          "text": [
            "Accuracy on test data : 0.9642857142857143\n"
          ]
        }
      ],
      "source": [
        "print(\"Accuracy on test data :\",test_data_accuracy)"
      ]
    }
  ],
  "metadata": {
    "colab": {
      "provenance": []
    },
    "kernelspec": {
      "display_name": "Python 3",
      "name": "python3"
    },
    "language_info": {
      "codemirror_mode": {
        "name": "ipython",
        "version": 3
      },
      "file_extension": ".py",
      "mimetype": "text/x-python",
      "name": "python",
      "nbconvert_exporter": "python",
      "pygments_lexer": "ipython3",
      "version": "3.11.7"
    }
  },
  "nbformat": 4,
  "nbformat_minor": 0
}
